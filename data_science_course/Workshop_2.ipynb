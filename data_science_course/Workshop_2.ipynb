{
 "cells": [
  {
   "cell_type": "markdown",
   "metadata": {},
   "source": [
    "# WorkShop 2\n",
    "\n",
    "Let's play with pandas and answer \"stakeholders\" _questions_.\n",
    "\n",
    "Problems $2-13$ rely on your `Problem 1` answer."
   ]
  },
  {
   "cell_type": "markdown",
   "metadata": {},
   "source": [
    "## Problem  1\n",
    "\n",
    "Load the energy data from the file `assets/Energy Indicators.xls`, which is a list of indicators of [energy supply and renewable electricity production](assets/Energy%20Indicators.xls) from the [United Nations](http://unstats.un.org/unsd/environment/excel_file_tables/2013/Energy%20Indicators.xls) for the year 2013, and should be put into a DataFrame with the variable name of __energy_df__.\n",
    "\n",
    "Keep in mind that this is an _Excel file_, and not a _comma separated values file_. Also, make sure to _exclude_ the footer and header information from the datafile. The first _two columns_ are unneccessary, so you should get rid of them, and you should change the column labels so that the columns are:\n",
    "\n",
    "```python\n",
    "['Country', 'Energy Supply', 'Energy Supply per Capita', '% Renewable]\n",
    "```\n",
    "\n",
    "Convert `Energy Supply` to _gigajoules_ (there are $1000000$ _gigajoules_ in a _petajoule_**). For all countries which have missing data (_e.g._ data with \"...\") make sure this is reflected as `np.NaN` values.\n",
    "\n",
    "Rename the following list of countries (_for use in later questions_):\n",
    "\n",
    "```bash\n",
    "\"Republic of Korea\": \"South Korea\",\n",
    "\"United States of America\": \"United States\",\n",
    "\"United Kingdom of Great Britain and Northern Ireland\": \"United Kingdom\",\n",
    "\"China, Hong Kong Special Administrative Region\": \"Hong Kong\"\n",
    "```\n",
    "\n",
    "There are also several countries with parenthesis in their name. Be sure to _remove these_, e.g. `'Bolivia (Plurinational State of)'` should be `'Bolivia'`. Additionally, there are several countries with _Numeric digits_ in their name. Make sure to remove these as well, e.g. `'Italy9'` should be `'Italy'`. \n",
    "\n",
    "Next, load the GDP data from the file `assets/world_bank.csv`, which is a _csv_ containing countries' GDP from $1960$ to $2015$ from [World Bank](http://data.worldbank.org/indicator/NY.GDP.MKTP.CD). Call this DataFrame __gdp_df__. \n",
    "\n",
    "Make sure to _skip the header_, and _rename_ the following list of countries:\n",
    "\n",
    "```bash\n",
    "\"Korea, Rep.\": \"South Korea\", \n",
    "\"Iran, Islamic Rep.\": \"Iran\",\n",
    "\"Hong Kong SAR, China\": \"Hong Kong\"\n",
    "```\n",
    "\n",
    "Finally, load the [Scimago Journal and Country Rank data for Energy Engineering and Power Technology](http://www.scimagojr.com/countryrank.php?category=2102) from the file `assets/scimagojr-3.xlsx`, which ranks countries based on their _journal contributions_ in the aforementioned area. Call this DataFrame __scimago_df__.\n",
    "\n",
    "Join the _thrgoee datasets_: _energy\\_df_, _gdp\\_df_ and _scimago\\_df_, into a new dataset (using the _intersection_ of _country names_). Use only the _last_ $10$ years ($2006-2015$) of __GDP data__ and only the _top 15 countries_ by __Scimagojr 'Rank'__ (_Rank 1 through 15_). \n",
    "\n",
    "The _index_ of this DataFrame should be the __name__ of the country, and the _columns_ should be:\n",
    "`['Rank', 'Documents', 'Citable documents', 'Citations', 'Self-citations', 'Citations per document', 'H index', 'Energy Supply', 'Energy Supply per Capita', '% Renewable', '2006', '2007', '2008','2009', '2010', '2011', '2012', '2013', '2014', '2015']`.\n",
    "\n",
    "_This function should return a DataFrame with 20 columns and 15 entries, and the rows of the DataFrame should be sorted by \"Rank\"._"
   ]
  },
  {
   "cell_type": "code",
   "execution_count": 25,
   "metadata": {},
   "outputs": [],
   "source": [
    "#!pip install xlrd\n",
    "#!pip install openpyxl\n",
    "import pandas as pd\n",
    "import numpy as np\n",
    "import warnings \n",
    "warnings.filterwarnings('ignore')"
   ]
  },
  {
   "cell_type": "code",
   "execution_count": 26,
   "metadata": {},
   "outputs": [],
   "source": [
    "def generate_energy_df() -> pd.DataFrame:\n",
    "    \"\"\"\n",
    "    Generate the energy dataframe.\n",
    "\n",
    "    Returns:\n",
    "        A pandas energy_df dataframe.\n",
    "    \"\"\"\n",
    "\n",
    "    # load dataframe and remove header and footer\n",
    "    energy_df = pd.read_excel(\n",
    "        './assets/Energy Indicators.xls', \n",
    "        usecols='C:F', \n",
    "        skiprows=17,\n",
    "        skipfooter=38\n",
    "    )\n",
    "\n",
    "    energy_df = energy_df.rename(columns={\n",
    "        'Unnamed: 2': 'Country',\n",
    "        'Petajoules': 'Energy Supply',\n",
    "        'Gigajoules': 'Energy Supply per Capita',\n",
    "        '%': '% Renewable'\n",
    "    })\n",
    "\n",
    "    # transform data\n",
    "    energy_df = energy_df.replace({'...': np.nan})\n",
    "    energy_df['Energy Supply'] = energy_df['Energy Supply'] * 1000000\n",
    "\n",
    "    # transform Country column\n",
    "    energy_df[\"Country\"] = energy_df[\"Country\"].\\\n",
    "                        replace(r\"(\\s\\(.+\\))|[0-9]+\", \"\", regex=True)\n",
    "\n",
    "    energy_df['Country'] = energy_df['Country'].replace({\n",
    "        \"Republic of Korea\": \"South Korea\",\n",
    "        \"United States of America\": \"United States\",\n",
    "        \"United Kingdom of Great Britain and Northern Ireland\": \"United Kingdom\",\n",
    "        \"China, Hong Kong Special Administrative Region\": \"Hong Kong\"\n",
    "    })\n",
    "    \n",
    "    return energy_df"
   ]
  },
  {
   "cell_type": "code",
   "execution_count": 27,
   "metadata": {},
   "outputs": [],
   "source": [
    "def get_GDP_df() -> pd.DataFrame:\n",
    "    \"\"\"\n",
    "    Generate the GDP dataframe.\n",
    "\n",
    "    Returns:\n",
    "        The pandas World bank dataframe.\n",
    "    \"\"\"\n",
    "    # YOUR CODE HERE load data, remove header, adjust column names\n",
    "    gdp_df = pd.read_csv(\"assets/world_bank.csv\", header=4)\n",
    "    gdp_df = gdp_df.rename(columns={\"Country Name\": \"Country\"})\n",
    "\n",
    "    # YOUR CODE HERE transform Country column \n",
    "    gdp_df['Country'] = gdp_df['Country'].replace({\n",
    "        \"Korea, Rep.\": \"South Korea\", \n",
    "        \"Iran, Islamic Rep.\": \"Iran\",\n",
    "        \"Hong Kong SAR, China\": \"Hong Kong\"\n",
    "    })\n",
    "\n",
    "    gdp_df = gdp_df.drop(gdp_df.columns[1:-10], axis=1)\n",
    "\n",
    "    return gdp_df"
   ]
  },
  {
   "cell_type": "code",
   "execution_count": 28,
   "metadata": {},
   "outputs": [],
   "source": [
    "def get_scimago_df() -> pd.DataFrame:\n",
    "    \"\"\"\n",
    "    Generate the Scimago dataframe.\n",
    "\n",
    "    Returns:\n",
    "        The pandas Scimago dataframe.\n",
    "    \"\"\"\n",
    "    scimago_df = pd.read_excel(\"assets/scimagojr-3.xlsx\")\n",
    "    return scimago_df"
   ]
  },
  {
   "cell_type": "code",
   "execution_count": 29,
   "metadata": {},
   "outputs": [],
   "source": [
    "def answer_one() -> pd.DataFrame:\n",
    "    \"\"\"\n",
    "    Merge the energy, gdc and scimag dataframes into a single dataframe.\n",
    "\n",
    "    Returns:\n",
    "        The merged dataframe.\n",
    "    \"\"\"\n",
    "    energy_df = generate_energy_df()\n",
    "    gdp_df = get_GDP_df()\n",
    "    scimago_df = get_scimago_df()\n",
    "\n",
    "    # merge dataframes\n",
    "    df = pd.merge(energy_df, gdp_df, on='Country', how='inner')\n",
    "    df = pd.merge(scimago_df.iloc[:15], df, on='Country', how='inner')\n",
    "    df.set_index('Country', inplace=True)\n",
    "    df.sort_values('Rank', inplace=True)\n",
    "\n",
    "    return df"
   ]
  },
  {
   "cell_type": "code",
   "execution_count": 30,
   "metadata": {},
   "outputs": [
    {
     "data": {
      "text/html": [
       "<div>\n",
       "<style scoped>\n",
       "    .dataframe tbody tr th:only-of-type {\n",
       "        vertical-align: middle;\n",
       "    }\n",
       "\n",
       "    .dataframe tbody tr th {\n",
       "        vertical-align: top;\n",
       "    }\n",
       "\n",
       "    .dataframe thead th {\n",
       "        text-align: right;\n",
       "    }\n",
       "</style>\n",
       "<table border=\"1\" class=\"dataframe\">\n",
       "  <thead>\n",
       "    <tr style=\"text-align: right;\">\n",
       "      <th></th>\n",
       "      <th>Rank</th>\n",
       "      <th>Documents</th>\n",
       "      <th>Citable documents</th>\n",
       "      <th>Citations</th>\n",
       "      <th>Self-citations</th>\n",
       "      <th>Citations per document</th>\n",
       "      <th>H index</th>\n",
       "      <th>Energy Supply</th>\n",
       "      <th>Energy Supply per Capita</th>\n",
       "      <th>% Renewable</th>\n",
       "      <th>2006</th>\n",
       "      <th>2007</th>\n",
       "      <th>2008</th>\n",
       "      <th>2009</th>\n",
       "      <th>2010</th>\n",
       "      <th>2011</th>\n",
       "      <th>2012</th>\n",
       "      <th>2013</th>\n",
       "      <th>2014</th>\n",
       "      <th>2015</th>\n",
       "    </tr>\n",
       "    <tr>\n",
       "      <th>Country</th>\n",
       "      <th></th>\n",
       "      <th></th>\n",
       "      <th></th>\n",
       "      <th></th>\n",
       "      <th></th>\n",
       "      <th></th>\n",
       "      <th></th>\n",
       "      <th></th>\n",
       "      <th></th>\n",
       "      <th></th>\n",
       "      <th></th>\n",
       "      <th></th>\n",
       "      <th></th>\n",
       "      <th></th>\n",
       "      <th></th>\n",
       "      <th></th>\n",
       "      <th></th>\n",
       "      <th></th>\n",
       "      <th></th>\n",
       "      <th></th>\n",
       "    </tr>\n",
       "  </thead>\n",
       "  <tbody>\n",
       "    <tr>\n",
       "      <th>China</th>\n",
       "      <td>1</td>\n",
       "      <td>127050</td>\n",
       "      <td>126767</td>\n",
       "      <td>597237</td>\n",
       "      <td>411683</td>\n",
       "      <td>4.70</td>\n",
       "      <td>138</td>\n",
       "      <td>1.271910e+11</td>\n",
       "      <td>93.0</td>\n",
       "      <td>19.75491</td>\n",
       "      <td>3.992331e+12</td>\n",
       "      <td>4.559041e+12</td>\n",
       "      <td>4.997775e+12</td>\n",
       "      <td>5.459247e+12</td>\n",
       "      <td>6.039659e+12</td>\n",
       "      <td>6.612490e+12</td>\n",
       "      <td>7.124978e+12</td>\n",
       "      <td>7.672448e+12</td>\n",
       "      <td>8.230121e+12</td>\n",
       "      <td>8.797999e+12</td>\n",
       "    </tr>\n",
       "    <tr>\n",
       "      <th>United States</th>\n",
       "      <td>2</td>\n",
       "      <td>96661</td>\n",
       "      <td>94747</td>\n",
       "      <td>792274</td>\n",
       "      <td>265436</td>\n",
       "      <td>8.20</td>\n",
       "      <td>230</td>\n",
       "      <td>9.083800e+10</td>\n",
       "      <td>286.0</td>\n",
       "      <td>11.57098</td>\n",
       "      <td>1.479230e+13</td>\n",
       "      <td>1.505540e+13</td>\n",
       "      <td>1.501149e+13</td>\n",
       "      <td>1.459484e+13</td>\n",
       "      <td>1.496437e+13</td>\n",
       "      <td>1.520402e+13</td>\n",
       "      <td>1.554216e+13</td>\n",
       "      <td>1.577367e+13</td>\n",
       "      <td>1.615662e+13</td>\n",
       "      <td>1.654857e+13</td>\n",
       "    </tr>\n",
       "    <tr>\n",
       "      <th>Japan</th>\n",
       "      <td>3</td>\n",
       "      <td>30504</td>\n",
       "      <td>30287</td>\n",
       "      <td>223024</td>\n",
       "      <td>61554</td>\n",
       "      <td>7.31</td>\n",
       "      <td>134</td>\n",
       "      <td>1.898400e+10</td>\n",
       "      <td>149.0</td>\n",
       "      <td>10.23282</td>\n",
       "      <td>5.496542e+12</td>\n",
       "      <td>5.617036e+12</td>\n",
       "      <td>5.558527e+12</td>\n",
       "      <td>5.251308e+12</td>\n",
       "      <td>5.498718e+12</td>\n",
       "      <td>5.473738e+12</td>\n",
       "      <td>5.569102e+12</td>\n",
       "      <td>5.644659e+12</td>\n",
       "      <td>5.642884e+12</td>\n",
       "      <td>5.669563e+12</td>\n",
       "    </tr>\n",
       "    <tr>\n",
       "      <th>United Kingdom</th>\n",
       "      <td>4</td>\n",
       "      <td>20944</td>\n",
       "      <td>20357</td>\n",
       "      <td>206091</td>\n",
       "      <td>37874</td>\n",
       "      <td>9.84</td>\n",
       "      <td>139</td>\n",
       "      <td>7.920000e+09</td>\n",
       "      <td>124.0</td>\n",
       "      <td>10.60047</td>\n",
       "      <td>2.419631e+12</td>\n",
       "      <td>2.482203e+12</td>\n",
       "      <td>2.470614e+12</td>\n",
       "      <td>2.367048e+12</td>\n",
       "      <td>2.403504e+12</td>\n",
       "      <td>2.450911e+12</td>\n",
       "      <td>2.479809e+12</td>\n",
       "      <td>2.533370e+12</td>\n",
       "      <td>2.605643e+12</td>\n",
       "      <td>2.666333e+12</td>\n",
       "    </tr>\n",
       "    <tr>\n",
       "      <th>Russian Federation</th>\n",
       "      <td>5</td>\n",
       "      <td>18534</td>\n",
       "      <td>18301</td>\n",
       "      <td>34266</td>\n",
       "      <td>12422</td>\n",
       "      <td>1.85</td>\n",
       "      <td>57</td>\n",
       "      <td>3.070900e+10</td>\n",
       "      <td>214.0</td>\n",
       "      <td>17.28868</td>\n",
       "      <td>1.385793e+12</td>\n",
       "      <td>1.504071e+12</td>\n",
       "      <td>1.583004e+12</td>\n",
       "      <td>1.459199e+12</td>\n",
       "      <td>1.524917e+12</td>\n",
       "      <td>1.589943e+12</td>\n",
       "      <td>1.645876e+12</td>\n",
       "      <td>1.666934e+12</td>\n",
       "      <td>1.678709e+12</td>\n",
       "      <td>1.616149e+12</td>\n",
       "    </tr>\n",
       "  </tbody>\n",
       "</table>\n",
       "</div>"
      ],
      "text/plain": [
       "                    Rank  Documents  Citable documents  Citations  \\\n",
       "Country                                                             \n",
       "China                  1     127050             126767     597237   \n",
       "United States          2      96661              94747     792274   \n",
       "Japan                  3      30504              30287     223024   \n",
       "United Kingdom         4      20944              20357     206091   \n",
       "Russian Federation     5      18534              18301      34266   \n",
       "\n",
       "                    Self-citations  Citations per document  H index  \\\n",
       "Country                                                               \n",
       "China                       411683                    4.70      138   \n",
       "United States               265436                    8.20      230   \n",
       "Japan                        61554                    7.31      134   \n",
       "United Kingdom               37874                    9.84      139   \n",
       "Russian Federation           12422                    1.85       57   \n",
       "\n",
       "                    Energy Supply  Energy Supply per Capita  % Renewable  \\\n",
       "Country                                                                    \n",
       "China                1.271910e+11                      93.0     19.75491   \n",
       "United States        9.083800e+10                     286.0     11.57098   \n",
       "Japan                1.898400e+10                     149.0     10.23282   \n",
       "United Kingdom       7.920000e+09                     124.0     10.60047   \n",
       "Russian Federation   3.070900e+10                     214.0     17.28868   \n",
       "\n",
       "                            2006          2007          2008          2009  \\\n",
       "Country                                                                      \n",
       "China               3.992331e+12  4.559041e+12  4.997775e+12  5.459247e+12   \n",
       "United States       1.479230e+13  1.505540e+13  1.501149e+13  1.459484e+13   \n",
       "Japan               5.496542e+12  5.617036e+12  5.558527e+12  5.251308e+12   \n",
       "United Kingdom      2.419631e+12  2.482203e+12  2.470614e+12  2.367048e+12   \n",
       "Russian Federation  1.385793e+12  1.504071e+12  1.583004e+12  1.459199e+12   \n",
       "\n",
       "                            2010          2011          2012          2013  \\\n",
       "Country                                                                      \n",
       "China               6.039659e+12  6.612490e+12  7.124978e+12  7.672448e+12   \n",
       "United States       1.496437e+13  1.520402e+13  1.554216e+13  1.577367e+13   \n",
       "Japan               5.498718e+12  5.473738e+12  5.569102e+12  5.644659e+12   \n",
       "United Kingdom      2.403504e+12  2.450911e+12  2.479809e+12  2.533370e+12   \n",
       "Russian Federation  1.524917e+12  1.589943e+12  1.645876e+12  1.666934e+12   \n",
       "\n",
       "                            2014          2015  \n",
       "Country                                         \n",
       "China               8.230121e+12  8.797999e+12  \n",
       "United States       1.615662e+13  1.654857e+13  \n",
       "Japan               5.642884e+12  5.669563e+12  \n",
       "United Kingdom      2.605643e+12  2.666333e+12  \n",
       "Russian Federation  1.678709e+12  1.616149e+12  "
      ]
     },
     "execution_count": 30,
     "metadata": {},
     "output_type": "execute_result"
    }
   ],
   "source": [
    "# example of test cases\n",
    "assert type(answer_one()) == pd.DataFrame, \"Q1: You should return a DataFrame!\"\n",
    "assert answer_one().shape == (15,20), \"Q1: Your DataFrame should have 20 columns and 15 entries!\"\n",
    "answer_one().head()"
   ]
  },
  {
   "cell_type": "code",
   "execution_count": 31,
   "metadata": {},
   "outputs": [],
   "source": [
    "# space for proffesor tests"
   ]
  },
  {
   "cell_type": "markdown",
   "metadata": {},
   "source": [
    "## Problem 2\n",
    "\n",
    "The _Problem 1_ joined three datasets then reduced this to just the top $15$ entries. When you joined the datasets, but before you reduced this to the top $15$ items, how many entries did you lose?\n",
    "\n",
    "_This function should return a single number._"
   ]
  },
  {
   "cell_type": "code",
   "execution_count": 32,
   "metadata": {},
   "outputs": [
    {
     "data": {
      "text/html": [
       "<svg width=\"800\" height=\"300\">\n",
       "  <circle cx=\"150\" cy=\"180\" r=\"80\" fill-opacity=\"0.2\" stroke=\"black\" stroke-width=\"2\" fill=\"blue\" />\n",
       "  <circle cx=\"200\" cy=\"100\" r=\"80\" fill-opacity=\"0.2\" stroke=\"black\" stroke-width=\"2\" fill=\"red\" />\n",
       "  <circle cx=\"100\" cy=\"100\" r=\"80\" fill-opacity=\"0.2\" stroke=\"black\" stroke-width=\"2\" fill=\"green\" />\n",
       "  <line x1=\"150\" y1=\"125\" x2=\"300\" y2=\"150\" stroke=\"black\" stroke-width=\"2\" fill=\"black\" stroke-dasharray=\"5,3\"/>\n",
       "  <text x=\"300\" y=\"165\" font-family=\"Verdana\" font-size=\"35\">Everything but this!</text>\n",
       "</svg>\n"
      ],
      "text/plain": [
       "<IPython.core.display.HTML object>"
      ]
     },
     "metadata": {},
     "output_type": "display_data"
    }
   ],
   "source": [
    "%%HTML\n",
    "<svg width=\"800\" height=\"300\">\n",
    "  <circle cx=\"150\" cy=\"180\" r=\"80\" fill-opacity=\"0.2\" stroke=\"black\" stroke-width=\"2\" fill=\"blue\" />\n",
    "  <circle cx=\"200\" cy=\"100\" r=\"80\" fill-opacity=\"0.2\" stroke=\"black\" stroke-width=\"2\" fill=\"red\" />\n",
    "  <circle cx=\"100\" cy=\"100\" r=\"80\" fill-opacity=\"0.2\" stroke=\"black\" stroke-width=\"2\" fill=\"green\" />\n",
    "  <line x1=\"150\" y1=\"125\" x2=\"300\" y2=\"150\" stroke=\"black\" stroke-width=\"2\" fill=\"black\" stroke-dasharray=\"5,3\"/>\n",
    "  <text x=\"300\" y=\"165\" font-family=\"Verdana\" font-size=\"35\">Everything but this!</text>\n",
    "</svg>"
   ]
  },
  {
   "cell_type": "code",
   "execution_count": 33,
   "metadata": {},
   "outputs": [],
   "source": [
    "def answer_two() -> int:\n",
    "    \"\"\"\n",
    "    How many entries are missing from the merged dataframe?\n",
    "\n",
    "    Returns:\n",
    "        The number of missing entries in the merged dataframe.\n",
    "    \"\"\"\n",
    "\n",
    "    merged_df = answer_one()\n",
    "    complete = pd.merge(generate_energy_df(), get_GDP_df(), on='Country', how='outer')\n",
    "    complete = pd.merge(get_scimago_df(), complete, on='Country', how='outer')\n",
    "\n",
    "    return len(complete) - len(merged_df)"
   ]
  },
  {
   "cell_type": "code",
   "execution_count": 34,
   "metadata": {},
   "outputs": [
    {
     "name": "stdout",
     "output_type": "stream",
     "text": [
      "304 missing entries\n"
     ]
    }
   ],
   "source": [
    "# example of test cases\n",
    "assert type(answer_two()) == int, \"Q2: You should return an int number!\"\n",
    "print(f'{answer_two()} missing entries')"
   ]
  },
  {
   "cell_type": "code",
   "execution_count": 35,
   "metadata": {},
   "outputs": [],
   "source": [
    "# space for proffesor tests"
   ]
  },
  {
   "cell_type": "markdown",
   "metadata": {},
   "source": [
    "## Problem 3\n",
    "\n",
    "What are the top $15$ countries for average GDP over the last $10$ years?\n",
    "\n",
    "_This function should return a Series named `avg_gdp` with $15$ countries and their average GDP sorted in descending order._"
   ]
  },
  {
   "cell_type": "code",
   "execution_count": 36,
   "metadata": {},
   "outputs": [],
   "source": [
    "def answer_three() -> pd.Series:\n",
    "    \"\"\"\n",
    "    What are the top 15 countries for average GDP over the last 10 years?\n",
    "    \n",
    "    Returns:\n",
    "        A pandas Series with the average GDP over the last 10 years for \n",
    "        the top 15 countries.    \n",
    "    \"\"\"\n",
    "    top15_df = answer_one()\n",
    "    avg_gdp = top15_df.iloc[:, 10:].mean(axis=1).\\\n",
    "              sort_values(ascending=False)\n",
    "\n",
    "    return avg_gdp"
   ]
  },
  {
   "cell_type": "code",
   "execution_count": 37,
   "metadata": {},
   "outputs": [
    {
     "data": {
      "text/plain": [
       "Country\n",
       "United States         1.536434e+13\n",
       "China                 6.348609e+12\n",
       "Japan                 5.542208e+12\n",
       "Germany               3.493025e+12\n",
       "France                2.681725e+12\n",
       "United Kingdom        2.487907e+12\n",
       "Brazil                2.189794e+12\n",
       "Italy                 2.120175e+12\n",
       "India                 1.769297e+12\n",
       "Canada                1.660647e+12\n",
       "Russian Federation    1.565459e+12\n",
       "Spain                 1.418078e+12\n",
       "Australia             1.164043e+12\n",
       "South Korea           1.106715e+12\n",
       "Iran                  4.441558e+11\n",
       "dtype: float64"
      ]
     },
     "execution_count": 37,
     "metadata": {},
     "output_type": "execute_result"
    }
   ],
   "source": [
    "# example of test cases\n",
    "assert type(answer_three()) == pd.Series, \"Q3: You should return a Series!\"\n",
    "answer_three().head(15)"
   ]
  },
  {
   "cell_type": "code",
   "execution_count": 38,
   "metadata": {},
   "outputs": [],
   "source": [
    "# space for proffesor tests"
   ]
  },
  {
   "cell_type": "markdown",
   "metadata": {},
   "source": [
    "# Problem 4\n",
    "\n",
    "By how much had the GDP changed over the $10$ year span for the country with the $6-th$ largest average GDP?\n",
    "\n",
    "_This function should return a single number._"
   ]
  },
  {
   "cell_type": "code",
   "execution_count": 39,
   "metadata": {},
   "outputs": [],
   "source": [
    "def answer_four() -> float:\n",
    "    \"\"\"\n",
    "    By how much had the GDP changed over the 10 year span for the country \n",
    "    with the 6th largest average GDP?\n",
    "\n",
    "    Returns:\n",
    "        The GDP change for the country with the 6th largest average GDP.\n",
    "    \"\"\"\n",
    "    energy_df = generate_energy_df()\n",
    "    gdp_df = get_GDP_df()\n",
    "\n",
    "    energy_merged = pd.merge(energy_df, gdp_df, on='Country', how='inner')\n",
    "    energy_merged = energy_merged.set_index('Country')\n",
    "    energy_merged['avgGDP'] = energy_merged.iloc[:, 10:].mean(axis=1)\n",
    "    energy_merged = energy_merged.sort_values('avgGDP', ascending=False)\n",
    "\n",
    "    return float(energy_merged['2015'][5] - energy_merged['2006'][5])\n"
   ]
  },
  {
   "cell_type": "code",
   "execution_count": 40,
   "metadata": {},
   "outputs": [
    {
     "name": "stdout",
     "output_type": "stream",
     "text": [
      "GDP change: 246702696075.3999\n"
     ]
    }
   ],
   "source": [
    "# example of test cases\n",
    "assert type(answer_four()) == float, \"Q4: You should return a single number!\"\n",
    "print(f'GDP change: {answer_four()}')"
   ]
  },
  {
   "cell_type": "code",
   "execution_count": 41,
   "metadata": {},
   "outputs": [],
   "source": [
    "# space for proffesor tests\n"
   ]
  },
  {
   "cell_type": "markdown",
   "metadata": {},
   "source": [
    "## Problem 5\n",
    "\n",
    "What is the _mean energy supply per capita_?\n",
    "\n",
    "_This function should return a single number._"
   ]
  },
  {
   "cell_type": "code",
   "execution_count": 42,
   "metadata": {},
   "outputs": [],
   "source": [
    "def answer_five() -> float:\n",
    "    \"\"\"\n",
    "    Calculate the mean Energy Supply per Capita.\n",
    "\n",
    "    Returns:\n",
    "        The mean Energy Supply per Capita.\n",
    "    \"\"\"\n",
    "    energy_df = generate_energy_df()\n",
    "\n",
    "    return float(np.nanmean(energy_df['Energy Supply per Capita']))"
   ]
  },
  {
   "cell_type": "code",
   "execution_count": 43,
   "metadata": {},
   "outputs": [
    {
     "name": "stdout",
     "output_type": "stream",
     "text": [
      "Mean Energy Supply per Capita: 90.66666666666667\n"
     ]
    }
   ],
   "source": [
    "# example of test cases\n",
    "assert type(answer_five()) == float, \"Q5: You should return a single number!\"\n",
    "print(f'Mean Energy Supply per Capita: {answer_five()}')"
   ]
  },
  {
   "cell_type": "code",
   "execution_count": 44,
   "metadata": {},
   "outputs": [],
   "source": [
    "# space for proffesor tests"
   ]
  },
  {
   "cell_type": "markdown",
   "metadata": {},
   "source": [
    "## Problem 6\n",
    "\n",
    "What __country__ has the _maximum % Renewable_ and what is the _percentage_?\n",
    "\n",
    "_This function should return a tuple with the name of the country and the percentage._"
   ]
  },
  {
   "cell_type": "code",
   "execution_count": 45,
   "metadata": {},
   "outputs": [],
   "source": [
    "def answer_six() -> tuple:\n",
    "    \"\"\"\n",
    "    Get the country with maximum % Renewable and is percentage\n",
    "\n",
    "    Returns:\n",
    "        A tuple with the country that has the maximum % Renewable \n",
    "        and the percentage.\n",
    "    \"\"\"\n",
    "    top15_df = answer_one()\n",
    "    max_renewable = top15_df['% Renewable'].idxmax()\n",
    "    renewable_value = top15_df['% Renewable'].max()\n",
    "    return (max_renewable, float(renewable_value))"
   ]
  },
  {
   "cell_type": "code",
   "execution_count": 46,
   "metadata": {},
   "outputs": [
    {
     "name": "stdout",
     "output_type": "stream",
     "text": [
      "Brazil with 69.64803% renewable\n"
     ]
    }
   ],
   "source": [
    "# example of test cases\n",
    "assert type(answer_six()) == tuple, \"Q6: You should return a tuple!\"\n",
    "assert type(answer_six()[0]) == str, \"Q6: The first element in your result should be the name of the country!\"\n",
    "print(f'{answer_six()[0]} with {answer_six()[1]}% renewable')"
   ]
  },
  {
   "cell_type": "code",
   "execution_count": 47,
   "metadata": {},
   "outputs": [],
   "source": [
    "# space for proffesor tests"
   ]
  },
  {
   "cell_type": "markdown",
   "metadata": {},
   "source": [
    "## Problem 7\n",
    "\n",
    "Create a new column that is the _ratio of Self-Citations to Total Citations_. \n",
    "What is the _maximum_ value for this new column, and what _country_ has the _highest ratio_?\n",
    "\n",
    "_This function should return a tuple with the name of the country and the ratio._"
   ]
  },
  {
   "cell_type": "code",
   "execution_count": 48,
   "metadata": {},
   "outputs": [],
   "source": [
    "def answer_seven() -> tuple:\n",
    "    \"\"\"\n",
    "    Calculate the ratio of Self-Citations to Total Citations.\n",
    "\n",
    "    Returns:\n",
    "        A tuple with the country that has the maximum ratio and the ratio value.\n",
    "    \"\"\"\n",
    "    top15_df = answer_one()\n",
    "    top15_df['Ratio'] = top15_df['Self-citations'] / top15_df['Citations']\n",
    "    max_ratio_country = top15_df['Ratio'].idxmax()\n",
    "    max_ratio_value = top15_df['Ratio'].max()\n",
    "\n",
    "    return (max_ratio_country, float(max_ratio_value))"
   ]
  },
  {
   "cell_type": "code",
   "execution_count": 49,
   "metadata": {},
   "outputs": [
    {
     "name": "stdout",
     "output_type": "stream",
     "text": [
      "China with 0.6893126179389422 citation ratio\n"
     ]
    }
   ],
   "source": [
    "# example of test cases\n",
    "assert type(answer_seven()) == tuple, \"Q7: You should return a tuple!\"\n",
    "assert type(answer_seven()[0]) == str, \"Q7: The first element in your result should be the name of the country!\"\n",
    "print(f'{answer_seven()[0]} with {answer_seven()[1]} citation ratio')"
   ]
  },
  {
   "cell_type": "code",
   "execution_count": 50,
   "metadata": {},
   "outputs": [],
   "source": [
    "# space for proffesor tests"
   ]
  },
  {
   "cell_type": "markdown",
   "metadata": {},
   "source": [
    "## Problem 8\n",
    "\n",
    "Create a column that estimates the _population using Energy Supply_ and _Energy Supply per capita_. \n",
    "What is the _third_ most populous country according to this estimate?\n",
    "\n",
    "_This function should return the name of the country._"
   ]
  },
  {
   "cell_type": "code",
   "execution_count": 51,
   "metadata": {},
   "outputs": [],
   "source": [
    "def answer_eight() -> str:\n",
    "    \"\"\"\n",
    "    Calculate the third most populous country.\n",
    "\n",
    "    Returns:\n",
    "        The name of the third most populous country.\n",
    "    \"\"\"\n",
    "    energy_df = generate_energy_df()\n",
    "    energy_df['Population'] = energy_df['Energy Supply'] / energy_df['Energy Supply per Capita']\n",
    "    energy_df = energy_df.sort_values('Population', ascending=False)\n",
    "    \n",
    "    return energy_df.iloc[2].Country"
   ]
  },
  {
   "cell_type": "code",
   "execution_count": 52,
   "metadata": {},
   "outputs": [
    {
     "name": "stdout",
     "output_type": "stream",
     "text": [
      "United States has the 3rd largest population\n"
     ]
    }
   ],
   "source": [
    "# example of test cases\n",
    "assert type(answer_eight()) == str, \"Q8: You should return the name of the country!\"\n",
    "print(f'{answer_eight()} has the 3rd largest population')"
   ]
  },
  {
   "cell_type": "code",
   "execution_count": 53,
   "metadata": {},
   "outputs": [],
   "source": [
    "# space for proffesor tests"
   ]
  },
  {
   "cell_type": "markdown",
   "metadata": {},
   "source": [
    "## Problem 9\n",
    "\n",
    "Create a column that estimates the _number of citable documents per person_. \n",
    "\n",
    "What is the correlation between the _number of citable documents per capita_ and the _energy supply per capita_? Use the `.corr()` method, (Pearson's correlation).\n",
    "\n",
    "_This function should return a single number._"
   ]
  },
  {
   "cell_type": "code",
   "execution_count": 54,
   "metadata": {},
   "outputs": [],
   "source": [
    "def answer_nine() -> float:\n",
    "    \"\"\"\n",
    "    Calculate the correlation between the number of citable documents per capita and \n",
    "    the energy supply per capita.\n",
    "\n",
    "    Returns:\n",
    "        The correlation value.\n",
    "    \"\"\"\n",
    "    top15_df = answer_one()\n",
    "    top15_df['Population'] = top15_df['Energy Supply'] / top15_df['Energy Supply per Capita']\n",
    "    top15_df['Citable docs per Capita'] = top15_df['Citable documents'] / top15_df['Population']\n",
    "\n",
    "    corr = top15_df['Citable docs per Capita'].corr(top15_df['Energy Supply per Capita'])\n",
    "    return corr\n"
   ]
  },
  {
   "cell_type": "code",
   "execution_count": 55,
   "metadata": {},
   "outputs": [
    {
     "name": "stdout",
     "output_type": "stream",
     "text": [
      "Correlation: 0.7940010435442942\n"
     ]
    }
   ],
   "source": [
    "# example of test cases\n",
    "assert answer_nine() >= -1. and answer_nine() <= 1., \"Q9: A valid correlation should between -1 to 1!\"\n",
    "print(f'Correlation: {answer_nine()}')"
   ]
  },
  {
   "cell_type": "code",
   "execution_count": 56,
   "metadata": {},
   "outputs": [],
   "source": [
    "# space for proffesor tests"
   ]
  },
  {
   "cell_type": "markdown",
   "metadata": {},
   "source": [
    "## Problem 10\n",
    "\n",
    "Create a new column with a $1$ if the _country's % Renewable_ value is at or above the median for all countries in the _top 15_, and a $0$ if the _country's % Renewable_ value is below the median.\n",
    "\n",
    "_This function should return a series named `high_renew` whose index is the country name sorted in ascending order of rank._"
   ]
  },
  {
   "cell_type": "code",
   "execution_count": 57,
   "metadata": {},
   "outputs": [],
   "source": [
    "def answer_ten() -> pd.Series:\n",
    "    \"\"\"\n",
    "    Create a new column with a 1 if the country's % Renewable value is at or above \n",
    "    the median for all countries in the top 15, and a 0 if the country's % Renewable \n",
    "    value is below the median.\n",
    "\n",
    "    Returns:\n",
    "        A series of the new binary column.\n",
    "    \"\"\"\n",
    "    top15_df = answer_one()\n",
    "    median = top15_df['% Renewable'].median()\n",
    "    top15_df['high_renew'] = top15_df['% Renewable'].apply(lambda x: 1 if x >= median else 0)\n",
    "\n",
    "    return top15_df['high_renew']\n",
    "\n"
   ]
  },
  {
   "cell_type": "code",
   "execution_count": 58,
   "metadata": {},
   "outputs": [
    {
     "data": {
      "text/plain": [
       "Country\n",
       "China                 1\n",
       "United States         0\n",
       "Japan                 0\n",
       "United Kingdom        0\n",
       "Russian Federation    1\n",
       "Canada                1\n",
       "Germany               1\n",
       "India                 0\n",
       "France                1\n",
       "South Korea           0\n",
       "Italy                 1\n",
       "Spain                 1\n",
       "Iran                  0\n",
       "Australia             0\n",
       "Brazil                1\n",
       "Name: high_renew, dtype: int64"
      ]
     },
     "execution_count": 58,
     "metadata": {},
     "output_type": "execute_result"
    }
   ],
   "source": [
    "# example of test cases\n",
    "assert type(answer_ten()) == pd.Series, \"Q10: You should return a Series!\"\n",
    "answer_ten()\n"
   ]
  },
  {
   "cell_type": "code",
   "execution_count": 59,
   "metadata": {},
   "outputs": [],
   "source": [
    "# space for proffesor tests"
   ]
  },
  {
   "cell_type": "markdown",
   "metadata": {},
   "source": [
    "## Problem 11\n",
    "\n",
    "Use the following dictionary to group the _Countries by Continent_, then create a DataFrame that displays the sample size (the number of countries in each continent bin), and the _sum_, _mean_, and _std deviation_ for the estimated population of each country.\n",
    "\n",
    "```python\n",
    "ContinentDict  = {\n",
    "    'China':'Asia', \n",
    "    'United States':'North America', \n",
    "    'Japan':'Asia', \n",
    "    'United Kingdom':'Europe', \n",
    "    'Russian Federation':'Europe', \n",
    "    'Canada':'North America', \n",
    "    'Germany':'Europe', \n",
    "    'India':'Asia',\n",
    "    'France':'Europe', \n",
    "    'South Korea':'Asia', \n",
    "    'Italy':'Europe', \n",
    "    'Spain':'Europe', \n",
    "    'Iran':'Asia',\n",
    "    'Australia':'Australia', \n",
    "    'Brazil':'South America'\n",
    "}\n",
    "```\n",
    "\n",
    "_This function should return a DataFrame with index named Continent `['Asia', 'Australia', 'Europe', 'North America', 'South America']` and columns `['size', 'sum', 'mean', 'std']`_"
   ]
  },
  {
   "cell_type": "code",
   "execution_count": 60,
   "metadata": {},
   "outputs": [],
   "source": [
    "def answer_eleven() -> pd.DataFrame:\n",
    "    \"\"\"\n",
    "    Group the countries by continent and display the size, sum, mean, and std deviation for \n",
    "    the estimated population.\n",
    "     \n",
    "    Returns:\n",
    "           The DataFrame with the aggregated values.\n",
    "    \"\"\"\n",
    "    \n",
    "    Continents  = {\n",
    "        'China':'Asia', \n",
    "        'United States':'North America', \n",
    "        'Japan':'Asia', \n",
    "        'United Kingdom':'Europe', \n",
    "        'Russian Federation':'Europe', \n",
    "        'Canada':'North America', \n",
    "        'Germany':'Europe', \n",
    "        'India':'Asia',\n",
    "        'France':'Europe', \n",
    "        'South Korea':'Asia', \n",
    "        'Italy':'Europe', \n",
    "        'Spain':'Europe', \n",
    "        'Iran':'Asia',\n",
    "        'Australia':'Australia', \n",
    "        'Brazil':'South America'}\n",
    "    \n",
    "    energy_df = generate_energy_df()\n",
    "    energy_df['Population'] = energy_df['Energy Supply'] / energy_df['Energy Supply per Capita']\n",
    "    energy_df['Continent'] = energy_df['Country'].map(Continents)\n",
    "    energy_df = energy_df[energy_df['Continent'].notnull()]\n",
    "    \n",
    "    energy_df = energy_df.groupby('Continent')['Population'].agg(['size', 'sum', 'mean', 'std'])\n",
    "    \n",
    "    return energy_df"
   ]
  },
  {
   "cell_type": "code",
   "execution_count": 61,
   "metadata": {},
   "outputs": [
    {
     "data": {
      "text/html": [
       "<div>\n",
       "<style scoped>\n",
       "    .dataframe tbody tr th:only-of-type {\n",
       "        vertical-align: middle;\n",
       "    }\n",
       "\n",
       "    .dataframe tbody tr th {\n",
       "        vertical-align: top;\n",
       "    }\n",
       "\n",
       "    .dataframe thead th {\n",
       "        text-align: right;\n",
       "    }\n",
       "</style>\n",
       "<table border=\"1\" class=\"dataframe\">\n",
       "  <thead>\n",
       "    <tr style=\"text-align: right;\">\n",
       "      <th></th>\n",
       "      <th>size</th>\n",
       "      <th>sum</th>\n",
       "      <th>mean</th>\n",
       "      <th>std</th>\n",
       "    </tr>\n",
       "    <tr>\n",
       "      <th>Continent</th>\n",
       "      <th></th>\n",
       "      <th></th>\n",
       "      <th></th>\n",
       "      <th></th>\n",
       "    </tr>\n",
       "  </thead>\n",
       "  <tbody>\n",
       "    <tr>\n",
       "      <th>Asia</th>\n",
       "      <td>5</td>\n",
       "      <td>2.898666e+09</td>\n",
       "      <td>5.797333e+08</td>\n",
       "      <td>6.790979e+08</td>\n",
       "    </tr>\n",
       "    <tr>\n",
       "      <th>Australia</th>\n",
       "      <td>1</td>\n",
       "      <td>2.331602e+07</td>\n",
       "      <td>2.331602e+07</td>\n",
       "      <td>NaN</td>\n",
       "    </tr>\n",
       "    <tr>\n",
       "      <th>Europe</th>\n",
       "      <td>6</td>\n",
       "      <td>4.579297e+08</td>\n",
       "      <td>7.632161e+07</td>\n",
       "      <td>3.464767e+07</td>\n",
       "    </tr>\n",
       "    <tr>\n",
       "      <th>North America</th>\n",
       "      <td>2</td>\n",
       "      <td>3.528552e+08</td>\n",
       "      <td>1.764276e+08</td>\n",
       "      <td>1.996696e+08</td>\n",
       "    </tr>\n",
       "    <tr>\n",
       "      <th>South America</th>\n",
       "      <td>1</td>\n",
       "      <td>2.059153e+08</td>\n",
       "      <td>2.059153e+08</td>\n",
       "      <td>NaN</td>\n",
       "    </tr>\n",
       "  </tbody>\n",
       "</table>\n",
       "</div>"
      ],
      "text/plain": [
       "               size           sum          mean           std\n",
       "Continent                                                    \n",
       "Asia              5  2.898666e+09  5.797333e+08  6.790979e+08\n",
       "Australia         1  2.331602e+07  2.331602e+07           NaN\n",
       "Europe            6  4.579297e+08  7.632161e+07  3.464767e+07\n",
       "North America     2  3.528552e+08  1.764276e+08  1.996696e+08\n",
       "South America     1  2.059153e+08  2.059153e+08           NaN"
      ]
     },
     "execution_count": 61,
     "metadata": {},
     "output_type": "execute_result"
    }
   ],
   "source": [
    "# example of test cases\n",
    "assert type(answer_eleven()) == pd.DataFrame, \"Q11: You should return a DataFrame!\"\n",
    "assert answer_eleven().shape[0] == 5, \"Q11: Wrong row numbers!\"\n",
    "assert answer_eleven().shape[1] == 4, \"Q11: Wrong column numbers!\"\n",
    "answer_eleven().head()"
   ]
  },
  {
   "cell_type": "code",
   "execution_count": 62,
   "metadata": {},
   "outputs": [],
   "source": [
    "# space for proffesor tests"
   ]
  },
  {
   "cell_type": "markdown",
   "metadata": {},
   "source": [
    "## Problem 12\n",
    "\n",
    "Cut (check `.cut()` from Pandas) _% Renewable_ into $5$ bins, but in the same column. Group _Top15_ by the _Continent_, as well as these new _% Renewable_ bins. How many countries are in each of these groups? You could check `.size()` as aggregation in group by.\n",
    "\n",
    "_This function should return a Series with a MultiIndex of `Continent`, then the bins for `% Renewable` (in string datatype). Do not include groups with no countries._"
   ]
  },
  {
   "cell_type": "code",
   "execution_count": 63,
   "metadata": {},
   "outputs": [],
   "source": [
    "def answer_twelve() -> pd.Series:\n",
    "    \"\"\"\n",
    "    Cut % Renewable into 5 bins. Group the top 15 countries by Continent and % Renewable.\n",
    "    \n",
    "    Returns:\n",
    "        The number of countries in each group.\n",
    "    \"\"\"\n",
    "    Continents  = {\n",
    "        'China':'Asia', \n",
    "        'United States':'North America', \n",
    "        'Japan':'Asia', \n",
    "        'United Kingdom':'Europe', \n",
    "        'Russian Federation':'Europe', \n",
    "        'Canada':'North America', \n",
    "        'Germany':'Europe', \n",
    "        'India':'Asia',\n",
    "        'France':'Europe', \n",
    "        'South Korea':'Asia', \n",
    "        'Italy':'Europe', \n",
    "        'Spain':'Europe', \n",
    "        'Iran':'Asia',\n",
    "        'Australia':'Australia', \n",
    "        'Brazil':'South America'}\n",
    "    \n",
    "    top15_df = answer_one()\n",
    "    top15_df = top15_df.reset_index()\n",
    "    top15_df['Continent'] = top15_df['Country'].map(Continents)\n",
    "    \n",
    "    top15_df['% Renewable'] = pd.cut(top15_df['% Renewable'], 5)\n",
    "    top15_df = top15_df.groupby(['Continent', '% Renewable']).agg({'Country': 'count'})\n",
    "    \n",
    "    return top15_df[top15_df['Country'] > 0]['Country']\n",
    "\n",
    "    "
   ]
  },
  {
   "cell_type": "code",
   "execution_count": 64,
   "metadata": {},
   "outputs": [
    {
     "name": "stdout",
     "output_type": "stream",
     "text": [
      "len: 9\n"
     ]
    },
    {
     "data": {
      "text/plain": [
       "Continent      % Renewable     \n",
       "Asia           (2.212, 15.753]     4\n",
       "               (15.753, 29.227]    1\n",
       "Australia      (2.212, 15.753]     1\n",
       "Europe         (2.212, 15.753]     1\n",
       "               (15.753, 29.227]    3\n",
       "               (29.227, 42.701]    2\n",
       "North America  (2.212, 15.753]     1\n",
       "               (56.174, 69.648]    1\n",
       "South America  (56.174, 69.648]    1\n",
       "Name: Country, dtype: int64"
      ]
     },
     "execution_count": 64,
     "metadata": {},
     "output_type": "execute_result"
    }
   ],
   "source": [
    "# example of test cases\n",
    "assert type(answer_twelve()) == pd.Series, \"Q12: You should return a Series!\"\n",
    "assert len(answer_twelve()) == 9, \"Q12: Wrong result numbers!\"\n",
    "print(\"len:\", len(answer_twelve()))\n",
    "answer_twelve().head(25)\n"
   ]
  },
  {
   "cell_type": "code",
   "execution_count": 65,
   "metadata": {},
   "outputs": [],
   "source": [
    "# space for proffesor tests"
   ]
  },
  {
   "cell_type": "markdown",
   "metadata": {},
   "source": [
    "## Problem 13\n",
    "\n",
    "Convert the _Population Estimate_ series to a string with thousands separator (using _dots_). Use all significant digits (do not round the results).\n",
    "\n",
    "e.g. 12345678.90 -> 12.345.678,90\n",
    "\n",
    "_This function should return a series `pop_est` whose index is the country name and whose values are the population estimate string_"
   ]
  },
  {
   "cell_type": "code",
   "execution_count": 85,
   "metadata": {},
   "outputs": [],
   "source": [
    "def answer_thirteen() -> pd.Series:\n",
    "    \"\"\"\n",
    "    Convert the Population Estimate series to a string with thousands separator.\n",
    "    \n",
    "    Returns:\n",
    "        The formatted population estimate series.\n",
    "    \"\"\"\n",
    "    def format_convertor(num: int) -> str:\n",
    "        \"\"\"\n",
    "        Convert number to string with thousands separator.\n",
    "        \n",
    "        Returns:\n",
    "            The formatted number.\n",
    "        \n",
    "        \"\"\"\n",
    "        return '{:,}'.format(num).replace(\",\",\"x\").replace(\".\",\",\").replace(\"x\",\".\")\n",
    "    \n",
    "    top15_df = answer_one()\n",
    "    top15_df['pop_est'] = top15_df['Energy Supply'] / top15_df['Energy Supply per Capita']\n",
    "    top15_df['pop_est'] = top15_df['pop_est'].apply(format_convertor)\n",
    "    \n",
    "    return top15_df['pop_est']\n",
    "    "
   ]
  },
  {
   "cell_type": "code",
   "execution_count": 87,
   "metadata": {},
   "outputs": [
    {
     "data": {
      "text/plain": [
       "Country\n",
       "China                 1.367.645.161,2903225\n",
       "United States          317.615.384,61538464\n",
       "Japan                  127.409.395,97315437\n",
       "United Kingdom         63.870.967,741935484\n",
       "Russian Federation            143.500.000,0\n",
       "Name: pop_est, dtype: object"
      ]
     },
     "execution_count": 87,
     "metadata": {},
     "output_type": "execute_result"
    }
   ],
   "source": [
    "# example of test cases\n",
    "assert type(answer_thirteen()) == pd.Series, \"Q13: You should return a Series!\"\n",
    "assert len(answer_thirteen()) == 15, \"Q13: Wrong result numbers!\"\n",
    "answer_thirteen().head()\n"
   ]
  },
  {
   "cell_type": "code",
   "execution_count": 68,
   "metadata": {},
   "outputs": [],
   "source": [
    "# space for proffesor tests"
   ]
  }
 ],
 "metadata": {
  "kernelspec": {
   "display_name": "data_science_course",
   "language": "python",
   "name": "python3"
  },
  "language_info": {
   "codemirror_mode": {
    "name": "ipython",
    "version": 3
   },
   "file_extension": ".py",
   "mimetype": "text/x-python",
   "name": "python",
   "nbconvert_exporter": "python",
   "pygments_lexer": "ipython3",
   "version": "3.11.9"
  }
 },
 "nbformat": 4,
 "nbformat_minor": 2
}
